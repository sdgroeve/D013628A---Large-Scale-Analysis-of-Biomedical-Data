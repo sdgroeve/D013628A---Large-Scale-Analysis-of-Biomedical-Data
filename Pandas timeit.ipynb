{
  "cells": [
    {
      "cell_type": "markdown",
      "metadata": {
        "id": "view-in-github",
        "colab_type": "text"
      },
      "source": [
        "<a href=\"https://colab.research.google.com/github/sdgroeve/D013628A---Large-Scale-Analysis-of-Biomedical-Data/blob/main/Pandas%20timeit.ipynb\" target=\"_parent\"><img src=\"https://colab.research.google.com/assets/colab-badge.svg\" alt=\"Open In Colab\"/></a>"
      ]
    },
    {
      "cell_type": "code",
      "execution_count": null,
      "id": "3f46bc9f",
      "metadata": {
        "id": "3f46bc9f"
      },
      "outputs": [],
      "source": [
        "import timeit"
      ]
    },
    {
      "cell_type": "code",
      "execution_count": null,
      "id": "e0518ab4",
      "metadata": {
        "id": "e0518ab4"
      },
      "outputs": [],
      "source": [
        "num_points = 10"
      ]
    },
    {
      "cell_type": "code",
      "execution_count": null,
      "id": "7fead8e4",
      "metadata": {
        "id": "7fead8e4"
      },
      "outputs": [],
      "source": [
        "mylist_python = [i for i in range(0,num_points)]\n",
        "\n",
        "print(mylist_python)\n",
        "print(len(mylist_python))"
      ]
    },
    {
      "cell_type": "code",
      "execution_count": null,
      "id": "f0f4ebff",
      "metadata": {
        "id": "f0f4ebff"
      },
      "outputs": [],
      "source": [
        "def sum_list(mylist):\n",
        "    sum = 0\n",
        "    for i in range(len(mylist)):\n",
        "        sum += mylist[i]\n",
        "    return sum"
      ]
    },
    {
      "cell_type": "code",
      "execution_count": null,
      "id": "6cfddb84",
      "metadata": {
        "id": "6cfddb84"
      },
      "outputs": [],
      "source": [
        "print(sum_list(mylist_python))"
      ]
    },
    {
      "cell_type": "code",
      "execution_count": null,
      "id": "d742e849",
      "metadata": {
        "id": "d742e849"
      },
      "outputs": [],
      "source": [
        "print(timeit.timeit(lambda: sum_list(mylist_python), number=100))"
      ]
    },
    {
      "cell_type": "code",
      "execution_count": null,
      "id": "8ed742d1",
      "metadata": {
        "id": "8ed742d1"
      },
      "outputs": [],
      "source": [
        "import pandas as pd\n",
        "\n",
        "mylist_pandas = pd.Series(range(0,num_points))\n",
        "\n",
        "print(mylist_pandas)\n",
        "print(len(mylist_pandas))"
      ]
    },
    {
      "cell_type": "code",
      "execution_count": null,
      "id": "330d7de4",
      "metadata": {
        "id": "330d7de4"
      },
      "outputs": [],
      "source": [
        "print(mylist_pandas.sum())"
      ]
    },
    {
      "cell_type": "code",
      "execution_count": null,
      "id": "1de4bfe3",
      "metadata": {
        "id": "1de4bfe3"
      },
      "outputs": [],
      "source": [
        "print(timeit.timeit(lambda: mylist_pandas.sum(), number=100))"
      ]
    }
  ],
  "metadata": {
    "kernelspec": {
      "display_name": "Python 3 (ipykernel)",
      "language": "python",
      "name": "python3"
    },
    "language_info": {
      "codemirror_mode": {
        "name": "ipython",
        "version": 3
      },
      "file_extension": ".py",
      "mimetype": "text/x-python",
      "name": "python",
      "nbconvert_exporter": "python",
      "pygments_lexer": "ipython3",
      "version": "3.9.18"
    },
    "colab": {
      "provenance": [],
      "include_colab_link": true
    }
  },
  "nbformat": 4,
  "nbformat_minor": 5
}