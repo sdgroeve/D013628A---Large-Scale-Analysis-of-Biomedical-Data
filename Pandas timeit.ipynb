{
 "cells": [
  {
   "cell_type": "code",
   "execution_count": 1,
   "id": "3f46bc9f",
   "metadata": {},
   "outputs": [],
   "source": [
    "import timeit"
   ]
  },
  {
   "cell_type": "code",
   "execution_count": 2,
   "id": "e0518ab4",
   "metadata": {},
   "outputs": [],
   "source": [
    "num_points = 1000000"
   ]
  },
  {
   "cell_type": "code",
   "execution_count": 3,
   "id": "7fead8e4",
   "metadata": {},
   "outputs": [
    {
     "name": "stdout",
     "output_type": "stream",
     "text": [
      "1000000\n"
     ]
    }
   ],
   "source": [
    "mylist_python = [i for i in range(0,num_points)]\n",
    "\n",
    "#print(mylist_python)\n",
    "print(len(mylist_python))"
   ]
  },
  {
   "cell_type": "code",
   "execution_count": 4,
   "id": "f0f4ebff",
   "metadata": {},
   "outputs": [],
   "source": [
    "def sum_list(mylist):\n",
    "    sum = 0\n",
    "    for i in range(len(mylist)):\n",
    "        sum += mylist[i]\n",
    "    return sum"
   ]
  },
  {
   "cell_type": "code",
   "execution_count": 5,
   "id": "6cfddb84",
   "metadata": {},
   "outputs": [
    {
     "name": "stdout",
     "output_type": "stream",
     "text": [
      "499999500000\n"
     ]
    }
   ],
   "source": [
    "print(sum_list(mylist_python))"
   ]
  },
  {
   "cell_type": "code",
   "execution_count": 6,
   "id": "d742e849",
   "metadata": {},
   "outputs": [
    {
     "name": "stdout",
     "output_type": "stream",
     "text": [
      "15.743681799999997\n"
     ]
    }
   ],
   "source": [
    "print(timeit.timeit(lambda: sum_list(mylist_python), number=100))"
   ]
  },
  {
   "cell_type": "code",
   "execution_count": 7,
   "id": "8ed742d1",
   "metadata": {},
   "outputs": [
    {
     "name": "stdout",
     "output_type": "stream",
     "text": [
      "1000000\n"
     ]
    }
   ],
   "source": [
    "import pandas as pd\n",
    "\n",
    "mylist_pandas = pd.Series(range(0,num_points))\n",
    "#print(mylist_pandas)\n",
    "print(len(mylist_pandas))"
   ]
  },
  {
   "cell_type": "code",
   "execution_count": 8,
   "id": "330d7de4",
   "metadata": {},
   "outputs": [
    {
     "name": "stdout",
     "output_type": "stream",
     "text": [
      "499999500000\n"
     ]
    }
   ],
   "source": [
    "print(mylist_pandas.sum())"
   ]
  },
  {
   "cell_type": "code",
   "execution_count": 9,
   "id": "1de4bfe3",
   "metadata": {},
   "outputs": [
    {
     "name": "stdout",
     "output_type": "stream",
     "text": [
      "0.1387197000000029\n"
     ]
    }
   ],
   "source": [
    "print(timeit.timeit(lambda: mylist_pandas.sum(), number=100))"
   ]
  }
 ],
 "metadata": {
  "kernelspec": {
   "display_name": "Python 3 (ipykernel)",
   "language": "python",
   "name": "python3"
  },
  "language_info": {
   "codemirror_mode": {
    "name": "ipython",
    "version": 3
   },
   "file_extension": ".py",
   "mimetype": "text/x-python",
   "name": "python",
   "nbconvert_exporter": "python",
   "pygments_lexer": "ipython3",
   "version": "3.9.18"
  }
 },
 "nbformat": 4,
 "nbformat_minor": 5
}
