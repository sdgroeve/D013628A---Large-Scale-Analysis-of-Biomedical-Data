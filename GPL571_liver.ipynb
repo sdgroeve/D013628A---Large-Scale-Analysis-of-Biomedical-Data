{
 "cells": [
  {
   "cell_type": "code",
   "execution_count": null,
   "id": "1df69d67",
   "metadata": {},
   "outputs": [],
   "source": [
    "import pandas as pd\n",
    "import matplotlib.pyplot as plt\n",
    "\n",
    "import warnings;\n",
    "warnings.filterwarnings('ignore');"
   ]
  },
  {
   "cell_type": "markdown",
   "id": "ea163a39",
   "metadata": {},
   "source": [
    "# Diagnosing liver cancer from gene expression data\n",
    "\n",
    "The [Curated Microarray Database](https://sbcb.inf.ufrgs.br/cumida)[1] (CuMiDa) is a research project that offers carefully curated gene expression datasets obtained by mircroarray technology.\n",
    "\n",
    "Liver cancer, characterized by its aggressive nature and limited treatment options, necessitates advanced data analysis techniques to uncover new insights and potential therapeutic targets. The CuMiDa repository contains a selection of meticulously chosen liver cancer datasets, which have been subjected to rigorous preprocessing to ensure data integrity and reliability.\n",
    "\n",
    " The objective of this study is to conduct an analysis of a gene expression dataset associated with liver cancer. We aim to develop and train a predictive model capable of diagnosing liver cancer based on the microarray measurements (Affymetrix Human Genome platform, GPL571) obtained from patients. Additionally, we intend to perform a comprehensive investigation of the trained model to identify the specific genes that the model deems pivotal for accurate classification.\n",
    "\n",
    "The datasets consists of the follwing files:\n",
    "\n",
    "- Liver_GSE14520_U133A_train.csv: train set feature vectors\n",
    "- Liver_GSE14520_U133A_train_labels.csv: train set labels\n",
    "- Liver_GSE14520_U133A_test.csv: test set feature vectors\n",
    "- Liver_GSE14520_U133A_test_labels.csv: test set labels"
   ]
  },
  {
   "cell_type": "markdown",
   "id": "4e56f234",
   "metadata": {},
   "source": [
    "### Loading the data\n",
    "\n",
    "We start by loading the train set, both the feature vectors and the labels. \n",
    "\n",
    "Use the Pandas function `read_csv()` to read the files `Liver_GSE14520_U133A_train.csv` and `Liver_GSE14520_U133A_train_labels.csv` into Pandas DataFrames called `X_train` and `y_train` respectively:"
   ]
  },
  {
   "cell_type": "code",
   "execution_count": null,
   "id": "d853ae3b",
   "metadata": {},
   "outputs": [],
   "source": [
    "trainset_feature_vectors_path = \"Liver_GSE14520_U133A_train.csv\"\n",
    "trainset_labels_path = \"Liver_GSE14520_U133A_train_labels.csv\"\n",
    "\n",
    "#start code here\n",
    "\n",
    "X_train = \n",
    "y_train = \n",
    "\n",
    "#end code here"
   ]
  },
  {
   "cell_type": "markdown",
   "id": "98aa231b",
   "metadata": {},
   "source": [
    "Use the Pandas function `read_csv()` to read the files `Liver_GSE14520_U133A_test.csv` and `Liver_GSE14520_U133A_test_labels.csv` into Pandas DataFrames called `X_test` and `y_test` respectively:"
   ]
  },
  {
   "cell_type": "code",
   "execution_count": null,
   "id": "3317e1f3",
   "metadata": {},
   "outputs": [],
   "source": [
    "testset_feature_vectors_path = \"Liver_GSE14520_U133A_test.csv\"\n",
    "testset_labels_path = \"Liver_GSE14520_U133A_test_labels.csv\"\n",
    "\n",
    "#start code here\n",
    "\n",
    "X_test  = \n",
    "y_test  = \n",
    "\n",
    "#end code here"
   ]
  },
  {
   "cell_type": "markdown",
   "id": "73621263",
   "metadata": {},
   "source": [
    "The documentation of the GPL571 microarray can be read from the tab-separated file `GPL571_limpo.txt`. "
   ]
  },
  {
   "cell_type": "code",
   "execution_count": null,
   "id": "3e87671e",
   "metadata": {},
   "outputs": [],
   "source": [
    "gpl571 = pd.read_csv(\"GPL571_limpo.txt\",sep=\"\\t\")"
   ]
  },
  {
   "cell_type": "markdown",
   "id": "0232d649",
   "metadata": {},
   "source": [
    "This file contains meta data for each spot (referred to by the `ID` column) on the microarray, such as Gene Ontology classification in the last three columns.\n",
    "\n",
    "The `ID` column corresponds to the attirbute names in `X_train` and `X_test`."
   ]
  },
  {
   "cell_type": "markdown",
   "id": "27393d1d",
   "metadata": {},
   "source": [
    "A Pandas DataFrame has a function `head()` that by default prints the first five rows of the DataFrame.\n",
    "\n",
    "Print the first five rows of `X_train`: \n"
   ]
  },
  {
   "cell_type": "code",
   "execution_count": null,
   "id": "4952cc39",
   "metadata": {},
   "outputs": [],
   "source": [
    "#start code here\n",
    "\n",
    "#end code here"
   ]
  },
  {
   "cell_type": "markdown",
   "id": "2ae54158",
   "metadata": {},
   "source": [
    "The following code shows the documentation for method `head()`:"
   ]
  },
  {
   "cell_type": "code",
   "execution_count": null,
   "id": "6a6ed8a4",
   "metadata": {},
   "outputs": [],
   "source": [
    "help(X_train.head)"
   ]
  },
  {
   "cell_type": "markdown",
   "id": "944b1847",
   "metadata": {},
   "source": [
    "Read this documentation and print the first 11 rows of `X_train`:"
   ]
  },
  {
   "cell_type": "code",
   "execution_count": null,
   "id": "309585ba",
   "metadata": {},
   "outputs": [],
   "source": [
    "#start code here\n",
    "\n",
    "#end code here"
   ]
  },
  {
   "cell_type": "markdown",
   "id": "0996024c",
   "metadata": {},
   "source": [
    "We can print the columns in DataFrame `X_train` as follows:"
   ]
  },
  {
   "cell_type": "code",
   "execution_count": null,
   "id": "48f9d96e",
   "metadata": {},
   "outputs": [],
   "source": [
    "X_train.columns"
   ]
  },
  {
   "cell_type": "markdown",
   "id": "1014c9fb",
   "metadata": {},
   "source": [
    "Use Pandas DataFrame `iloc`to print the third row in `X_train`:"
   ]
  },
  {
   "cell_type": "code",
   "execution_count": null,
   "id": "2c34574f",
   "metadata": {},
   "outputs": [],
   "source": [
    "#start code here\n",
    "\n",
    "#end code here"
   ]
  },
  {
   "cell_type": "markdown",
   "id": "5ebe6355",
   "metadata": {},
   "source": [
    "Use Pandas DataFrame `iloc`to print the third column in `X_train`:"
   ]
  },
  {
   "cell_type": "code",
   "execution_count": null,
   "id": "219cf7ae",
   "metadata": {},
   "outputs": [],
   "source": [
    "#start code here\n",
    "\n",
    "#end code here"
   ]
  },
  {
   "cell_type": "markdown",
   "id": "333a35e1",
   "metadata": {},
   "source": [
    "Print all gene expression values in the column `217292_at` of `X_train`:"
   ]
  },
  {
   "cell_type": "code",
   "execution_count": null,
   "id": "c4596513",
   "metadata": {},
   "outputs": [],
   "source": [
    "#start code here\n",
    "\n",
    "#end code here"
   ]
  },
  {
   "cell_type": "markdown",
   "id": "d771efba",
   "metadata": {},
   "source": [
    "Select from `X_train` all rows that have a feature value for column  `1431_at` within [5,10]. "
   ]
  },
  {
   "cell_type": "code",
   "execution_count": null,
   "id": "fd18671e",
   "metadata": {},
   "outputs": [],
   "source": [
    "#start code here\n",
    "\n",
    "#end code here"
   ]
  },
  {
   "cell_type": "markdown",
   "id": "36cdfe14",
   "metadata": {},
   "source": [
    "Use the DataFrame function `value_counts()` to print the number of data points in `y_train` with class 1 (liver cancer) and with class 0 (no liver cancer):"
   ]
  },
  {
   "cell_type": "code",
   "execution_count": null,
   "id": "b66c3da7",
   "metadata": {},
   "outputs": [],
   "source": [
    "#start code here\n",
    "\n",
    "#end code here"
   ]
  },
  {
   "cell_type": "markdown",
   "id": "bf0818e0",
   "metadata": {},
   "source": [
    "A Pandas DataFrame has a function `sample()` that randomly samples rows (set `axis=\"rows\"`) or attributes (set `axis=\"columns\"`) from the DataFrame:"
   ]
  },
  {
   "cell_type": "code",
   "execution_count": null,
   "id": "349bc8d9",
   "metadata": {},
   "outputs": [],
   "source": [
    "help(X_train.sample)"
   ]
  },
  {
   "cell_type": "markdown",
   "id": "465200c4",
   "metadata": {},
   "source": [
    "The following code randomly samples 10 columns from `X_train` (execute the cell below multiple times to print different columns):"
   ]
  },
  {
   "cell_type": "code",
   "execution_count": null,
   "id": "ffc9a48d",
   "metadata": {},
   "outputs": [],
   "source": [
    "X_train.sample(10, axis=\"columns\")"
   ]
  },
  {
   "cell_type": "markdown",
   "id": "045f0418",
   "metadata": {},
   "source": [
    "A Pandas DataFrame has several [plotting functions](https://pandas.pydata.org/docs/user_guide/visualization.html). \n",
    "\n",
    "We can use these to plot boxplots for the features (execute the cell below multiple times to show different attributes):"
   ]
  },
  {
   "cell_type": "code",
   "execution_count": null,
   "id": "0c53d901",
   "metadata": {},
   "outputs": [],
   "source": [
    "plt.figure(figsize=(18,6)) #set the size of the plot\n",
    "X_train.sample(10, axis=\"columns\").boxplot()\n",
    "plt.xticks(rotation=90) #rotate the gene names on the x-axis\n",
    "plt.show() #show the plot"
   ]
  },
  {
   "cell_type": "markdown",
   "id": "b83f9276",
   "metadata": {},
   "source": [
    "### Data preprocessing\n",
    "\n",
    "The features clearly have very different scales. It is good practice to normalize the range of the features in the dataset.\n",
    "\n",
    "We can do this with the Scikit-learn object `StandardScaler`:"
   ]
  },
  {
   "cell_type": "code",
   "execution_count": null,
   "id": "3ad07c34",
   "metadata": {},
   "outputs": [],
   "source": [
    "from sklearn.preprocessing import StandardScaler"
   ]
  },
  {
   "cell_type": "markdown",
   "id": "6fa37020",
   "metadata": {},
   "source": [
    "First we create a StandardScaler object called `scaler_std`:"
   ]
  },
  {
   "cell_type": "code",
   "execution_count": null,
   "id": "cc346989",
   "metadata": {},
   "outputs": [],
   "source": [
    "scaler_std = StandardScaler()"
   ]
  },
  {
   "cell_type": "markdown",
   "id": "26b62ef6",
   "metadata": {},
   "source": [
    "This object has a function `fit()` that computes the mean and standard deviation for each attribute.\n",
    "\n",
    "We first compute these values from the train set:"
   ]
  },
  {
   "cell_type": "code",
   "execution_count": null,
   "id": "79689025",
   "metadata": {},
   "outputs": [],
   "source": [
    "scaler_std.fit(X_train)\n",
    "\n",
    "print(\"Means:\")\n",
    "print(scaler_std.mean_)\n",
    "print(\"Variances:\")\n",
    "print(scaler_std.var_)"
   ]
  },
  {
   "cell_type": "markdown",
   "id": "29f7f0d2",
   "metadata": {},
   "source": [
    "Next, we normalize the features in the train set. \n",
    "\n",
    "The `scaler` object has a function `transform()` that uses the means and variances computed by the `fit()` function to normalize the features: "
   ]
  },
  {
   "cell_type": "code",
   "execution_count": null,
   "id": "b04395a5",
   "metadata": {},
   "outputs": [],
   "source": [
    "X_train_std = scaler_std.transform(X_train)\n",
    "\n",
    "X_train_std"
   ]
  },
  {
   "cell_type": "markdown",
   "id": "49597780",
   "metadata": {},
   "source": [
    "Notice the the function `transform()` does not return a Pandas DataFrame, the column names are missing.\n",
    "\n",
    "We can make a Pandas DataFrame with the original column names as follows:"
   ]
  },
  {
   "cell_type": "code",
   "execution_count": null,
   "id": "ee429830",
   "metadata": {},
   "outputs": [],
   "source": [
    "X_train_std = pd.DataFrame(X_train_std, columns=X_train.columns)\n",
    "\n",
    "X_train_std"
   ]
  },
  {
   "cell_type": "markdown",
   "id": "ead218ac",
   "metadata": {},
   "source": [
    "Let's plot some normalized attributes:"
   ]
  },
  {
   "cell_type": "code",
   "execution_count": null,
   "id": "b00daee2",
   "metadata": {},
   "outputs": [],
   "source": [
    "plt.figure(figsize=(18,6))\n",
    "X_train_std.sample(10, axis=\"columns\").boxplot()\n",
    "plt.xticks(rotation=90)\n",
    "plt.show()"
   ]
  },
  {
   "cell_type": "markdown",
   "id": "269b9393",
   "metadata": {},
   "source": [
    "It is important to normalize the features in the test set **in the same way** as we did for the train set.\n",
    "\n",
    "This means that we don't call the `fit()` function for the test set, but only use the `transform()` function:"
   ]
  },
  {
   "cell_type": "code",
   "execution_count": null,
   "id": "a58e00d8",
   "metadata": {},
   "outputs": [],
   "source": [
    "X_test_std = pd.DataFrame(scaler_std.transform(X_test),columns=X_test.columns)"
   ]
  },
  {
   "cell_type": "markdown",
   "id": "f0aaba14",
   "metadata": {},
   "source": [
    "Print the mean gene expression value in column `1255_g_at` of `X_train_std`:"
   ]
  },
  {
   "cell_type": "code",
   "execution_count": null,
   "id": "e27ac8d4",
   "metadata": {},
   "outputs": [],
   "source": [
    "#start code here\n",
    "\n",
    "#end code here"
   ]
  },
  {
   "cell_type": "markdown",
   "id": "67b39b65",
   "metadata": {},
   "source": [
    "Another method for normalizing the features in a dataset is min-max scaling. \n",
    "\n",
    "In Scikit-learn this can be done with the `MinMaxScaler` object:"
   ]
  },
  {
   "cell_type": "code",
   "execution_count": null,
   "id": "7c52ef75",
   "metadata": {},
   "outputs": [],
   "source": [
    "from sklearn.preprocessing import MinMaxScaler\n",
    "\n",
    "scaler_minmax = MinMaxScaler()"
   ]
  },
  {
   "cell_type": "markdown",
   "id": "39076532",
   "metadata": {},
   "source": [
    "Create variable `X_train_minmax` that contains the min-max scaled train set as a Pandas DataFrame: "
   ]
  },
  {
   "cell_type": "code",
   "execution_count": null,
   "id": "7f687a6d",
   "metadata": {},
   "outputs": [],
   "source": [
    "#start code here\n",
    "\n",
    "#end code here\n",
    "\n",
    "X_train_minmax"
   ]
  },
  {
   "cell_type": "markdown",
   "id": "eb77302b",
   "metadata": {},
   "source": [
    "Plot boxplots for 10 random attributes in `train_minmax`:"
   ]
  },
  {
   "cell_type": "code",
   "execution_count": null,
   "id": "81ca7e1f",
   "metadata": {},
   "outputs": [],
   "source": [
    "#start code here\n",
    "\n",
    "#end code here"
   ]
  },
  {
   "cell_type": "markdown",
   "id": "cca5fa52",
   "metadata": {},
   "source": [
    "### Model training\n",
    "\n",
    "Now we can fit a logistic regression model.\n",
    "\n",
    "In Scikit-learn we first initiate a `LogisticRegression` model:"
   ]
  },
  {
   "cell_type": "code",
   "execution_count": null,
   "id": "15850b74",
   "metadata": {},
   "outputs": [],
   "source": [
    "from sklearn.linear_model import LogisticRegression\n",
    "\n",
    "cls_std = LogisticRegression()"
   ]
  },
  {
   "cell_type": "markdown",
   "id": "c48b0e1f",
   "metadata": {},
   "source": [
    "Train the model on the normalized train set:"
   ]
  },
  {
   "cell_type": "code",
   "execution_count": null,
   "id": "aaf032bc",
   "metadata": {},
   "outputs": [],
   "source": [
    "#start code here\n",
    "\n",
    "#end code here"
   ]
  },
  {
   "cell_type": "markdown",
   "id": "bb3601e3",
   "metadata": {},
   "source": [
    "We can now access the fitted modelparameters as follows:"
   ]
  },
  {
   "cell_type": "code",
   "execution_count": null,
   "id": "3b284611",
   "metadata": {},
   "outputs": [],
   "source": [
    "cls_std.coef_[0]"
   ]
  },
  {
   "cell_type": "markdown",
   "id": "ee8d15db",
   "metadata": {},
   "source": [
    "Use the fitted model to compute predictions for the datapoints in the test set `X_test_std`. Write the predictions to `predictions_std`:"
   ]
  },
  {
   "cell_type": "code",
   "execution_count": null,
   "id": "7bd4fb70",
   "metadata": {},
   "outputs": [],
   "source": [
    "#start code here\n",
    "\n",
    "predictions_std = \n",
    "\n",
    "#end code here\n",
    "\n",
    "predictions_std"
   ]
  },
  {
   "cell_type": "markdown",
   "id": "fb3e4781",
   "metadata": {},
   "source": [
    "This shows the predicted class label for each row in `X_test_std`.\n",
    "\n",
    "In theory, the logistic regression model computes class probabilities, not classes. \n",
    "\n",
    "Applying the model with `predict_proba()` instead of `predict()` outputs these class probabilities: "
   ]
  },
  {
   "cell_type": "code",
   "execution_count": null,
   "id": "8eae81b3",
   "metadata": {},
   "outputs": [],
   "source": [
    "predictions_std = cls_std.predict_proba(X_test_std)\n",
    "\n",
    "predictions_std[:10]"
   ]
  },
  {
   "cell_type": "markdown",
   "id": "8ea5ffa1",
   "metadata": {},
   "source": [
    "Notice that this computes two values (columns) for each datapoint (rows). These are the probability that the datapoint belongs to class 0 and class 1 respectively."
   ]
  },
  {
   "cell_type": "markdown",
   "id": "889f7050",
   "metadata": {},
   "source": [
    "Our model also has a function `score()` that computes the accuracy of the predictions:"
   ]
  },
  {
   "cell_type": "code",
   "execution_count": null,
   "id": "9f15e99e",
   "metadata": {},
   "outputs": [],
   "source": [
    "print(\"Accuracy: {}\".format(cls_std.score(X_test_std,y_test)))"
   ]
  },
  {
   "cell_type": "markdown",
   "id": "4b9b7698",
   "metadata": {},
   "source": [
    "Print the accuracy of the predictions on the unnormalized test set `test`:"
   ]
  },
  {
   "cell_type": "code",
   "execution_count": null,
   "id": "982a2087",
   "metadata": {},
   "outputs": [],
   "source": [
    "#start code here\n",
    "\n",
    "#end code here"
   ]
  },
  {
   "cell_type": "markdown",
   "id": "79bbe426",
   "metadata": {},
   "source": [
    "*What do you observe?*"
   ]
  },
  {
   "cell_type": "markdown",
   "id": "debaf179",
   "metadata": {},
   "source": [
    "Fit a logistic regression model called `cls` on the unnormalized train set `train`:"
   ]
  },
  {
   "cell_type": "code",
   "execution_count": null,
   "id": "2ff67137",
   "metadata": {},
   "outputs": [],
   "source": [
    "#start code here\n",
    "\n",
    "#end code here"
   ]
  },
  {
   "cell_type": "markdown",
   "id": "bffde513",
   "metadata": {},
   "source": [
    "Print the prediction accuracy of this model on the unnormalized test set `test`:"
   ]
  },
  {
   "cell_type": "code",
   "execution_count": null,
   "id": "f69b3115",
   "metadata": {},
   "outputs": [],
   "source": [
    "#start code here\n",
    "\n",
    "#end code here"
   ]
  },
  {
   "cell_type": "markdown",
   "id": "b35bf838",
   "metadata": {},
   "source": [
    "*What do you observe?*"
   ]
  },
  {
   "cell_type": "markdown",
   "id": "f5e41359",
   "metadata": {},
   "source": [
    "Fit a logistic regression model `cls_minmax` on the min-max scaled train set and print the accuracy of this model on the min-max scaled test set:"
   ]
  },
  {
   "cell_type": "code",
   "execution_count": null,
   "id": "b6322940",
   "metadata": {},
   "outputs": [],
   "source": [
    "#start code here\n",
    "\n",
    "#end code here"
   ]
  },
  {
   "cell_type": "markdown",
   "id": "0b00f85b",
   "metadata": {},
   "source": [
    "*What do you observe?*"
   ]
  },
  {
   "cell_type": "markdown",
   "id": "452b68e5",
   "metadata": {},
   "source": [
    "### Modelparameters and gene importance\n",
    "\n",
    "Creates a Pandas DataFrame called `model_parameters` that has two columns:\n",
    "- `attribute` that contains the column names from `X_train`\n",
    "- `parameter_value` that contains the corresponding fitted modelparameter values of model `cls_std`"
   ]
  },
  {
   "cell_type": "code",
   "execution_count": null,
   "id": "9a9e7009",
   "metadata": {},
   "outputs": [],
   "source": [
    "#start code here\n",
    "\n",
    "model_parameters = \n",
    "\n",
    "#end code here\n",
    "\n",
    "model_parameters"
   ]
  },
  {
   "cell_type": "markdown",
   "id": "750aed58",
   "metadata": {},
   "source": [
    "We can sort the rows in `model_parameters` by column `parameter_value` from low to high:"
   ]
  },
  {
   "cell_type": "code",
   "execution_count": null,
   "id": "2ea8665e",
   "metadata": {},
   "outputs": [],
   "source": [
    "model_parameters = model_parameters.sort_values(by=\"parameter_value\")\n",
    "\n",
    "model_parameters"
   ]
  },
  {
   "cell_type": "markdown",
   "id": "0927e88f",
   "metadata": {},
   "source": [
    "Since all features have the same scale, the fitted modelparameter values provide some indication of feature relevance or importance in the liver classification task.\n",
    "\n",
    "However, for gene importances we are mainly interested in the absolute value of the modelparameter. This can be computed with the python `abs()` function:"
   ]
  },
  {
   "cell_type": "code",
   "execution_count": null,
   "id": "01462eb7",
   "metadata": {},
   "outputs": [],
   "source": [
    "a = -3\n",
    "abs(a)"
   ]
  },
  {
   "cell_type": "markdown",
   "id": "9af94dbe",
   "metadata": {},
   "source": [
    "Add a column `parameter_abs_value` to `model_parameters` that contains the absolute value of the column `parameter_value`. Use the DataFrame `map()` function:"
   ]
  },
  {
   "cell_type": "code",
   "execution_count": null,
   "id": "b2d83fb2",
   "metadata": {},
   "outputs": [],
   "source": [
    "#start code here\n",
    "\n",
    "#end code here\n",
    "\n",
    "model_parameters"
   ]
  },
  {
   "cell_type": "markdown",
   "id": "aaff35ee",
   "metadata": {},
   "source": [
    "Sort by `model_parameters` by `parameter_abs_value` from high to low:"
   ]
  },
  {
   "cell_type": "code",
   "execution_count": null,
   "id": "a35d51dd",
   "metadata": {},
   "outputs": [],
   "source": [
    "#start code here\n",
    "\n",
    "#end code here\n",
    "\n",
    "model_parameters"
   ]
  },
  {
   "cell_type": "markdown",
   "id": "fdf45e5a",
   "metadata": {},
   "source": [
    "Use `iloc` to select the top 10 most important attributes from `model_parameters` and add these to the Pandas Series `selected_attributes`:"
   ]
  },
  {
   "cell_type": "code",
   "execution_count": null,
   "id": "658baf8c",
   "metadata": {},
   "outputs": [],
   "source": [
    "#start code here\n",
    "\n",
    "selected_attributes = \n",
    "\n",
    "#end code here\n",
    "\n",
    "selected_attributes"
   ]
  },
  {
   "cell_type": "markdown",
   "id": "aa0134b1",
   "metadata": {},
   "source": [
    "We can convert the resulting DataFrame to a list as follows:"
   ]
  },
  {
   "cell_type": "code",
   "execution_count": null,
   "id": "c0b11f35",
   "metadata": {},
   "outputs": [],
   "source": [
    "selected_attributes = list(selected_attributes)\n",
    "\n",
    "selected_attributes"
   ]
  },
  {
   "cell_type": "markdown",
   "id": "027243e4",
   "metadata": {},
   "source": [
    "Select the row from `gpl571` for the most important attribute and print the value for the \"Gene Ontology Molecular Function\" column:"
   ]
  },
  {
   "cell_type": "code",
   "execution_count": null,
   "id": "5542fbc0",
   "metadata": {},
   "outputs": [],
   "source": [
    "#start code here\n",
    "\n",
    "#end code here"
   ]
  },
  {
   "cell_type": "markdown",
   "id": "b5a7d54e",
   "metadata": {},
   "source": [
    "By default, Pandas truncates long strings in the output. The following code prevents this:"
   ]
  },
  {
   "cell_type": "code",
   "execution_count": null,
   "id": "9d5ad1e0",
   "metadata": {},
   "outputs": [],
   "source": [
    "pd.set_option('display.max_colwidth', None)"
   ]
  },
  {
   "cell_type": "markdown",
   "id": "b0162de8",
   "metadata": {},
   "source": [
    "Again select the row from `gpl571` for the most important attribute and print the value for the \"Gene Ontology Molecular Function\" column:"
   ]
  },
  {
   "cell_type": "code",
   "execution_count": null,
   "id": "7885c906",
   "metadata": {},
   "outputs": [],
   "source": [
    "#start code here\n",
    "\n",
    "#end code here"
   ]
  },
  {
   "cell_type": "markdown",
   "id": "4b779bd5",
   "metadata": {},
   "source": [
    "Train a logsitic regression model on the train set that contains only the standardized features for the genes in `selected_attributes`: "
   ]
  },
  {
   "cell_type": "code",
   "execution_count": null,
   "id": "5d9df6bf",
   "metadata": {},
   "outputs": [],
   "source": [
    "cls_std.fit(X_train_std[selected_attributes],y_train)"
   ]
  },
  {
   "cell_type": "markdown",
   "id": "38e67256",
   "metadata": {},
   "source": [
    "Print the prediction accuracy on the corresponing test set:"
   ]
  },
  {
   "cell_type": "code",
   "execution_count": null,
   "id": "858c1bbe",
   "metadata": {},
   "outputs": [],
   "source": [
    "#start code here\n",
    "\n",
    "#end code here"
   ]
  },
  {
   "cell_type": "markdown",
   "id": "aadee368",
   "metadata": {},
   "source": [
    "Write a for-loop that prints the prediction accuracy for the top-x most important genes with x in [2,50]: "
   ]
  },
  {
   "cell_type": "code",
   "execution_count": null,
   "id": "d89c892d",
   "metadata": {},
   "outputs": [],
   "source": [
    "#start code here\n",
    "\n",
    "for s in range(2,50):\n",
    "    \n",
    "#end code here"
   ]
  },
  {
   "cell_type": "markdown",
   "id": "8f99d07f",
   "metadata": {},
   "source": [
    "*What do you observe?*"
   ]
  },
  {
   "cell_type": "markdown",
   "id": "7d7023a4",
   "metadata": {},
   "source": [
    "### Dimensionality reduction with t-SNE"
   ]
  },
  {
   "cell_type": "markdown",
   "id": "e1262f2c",
   "metadata": {},
   "source": [
    "Finally, we reduce the dimensionality of the train set from 22277 columns to just two columns using the t-SNE algorithm.\n",
    "\n",
    "We first initialize a t-SNE model with perplexity value 10:"
   ]
  },
  {
   "cell_type": "code",
   "execution_count": null,
   "id": "71762e3b",
   "metadata": {},
   "outputs": [],
   "source": [
    "from sklearn.manifold import TSNE\n",
    "\n",
    "model_tSNE = TSNE(n_components=2, perplexity=10)"
   ]
  },
  {
   "cell_type": "markdown",
   "id": "f6a367bb",
   "metadata": {},
   "source": [
    "Next, we call the function `fit_transform()` to reduce the dimensionality of the train set `train_std`:"
   ]
  },
  {
   "cell_type": "code",
   "execution_count": null,
   "id": "06f7c6bc",
   "metadata": {},
   "outputs": [],
   "source": [
    "X_embedded = model_tSNE.fit_transform(X_train_std)\n",
    "\n",
    "X_embedded"
   ]
  },
  {
   "cell_type": "markdown",
   "id": "b7713def",
   "metadata": {},
   "source": [
    "We can make `X_embedded` into a Pandas DataFrame with columns `t-SNE_1`, `t-SNE_2` and the label `label`: "
   ]
  },
  {
   "cell_type": "code",
   "execution_count": null,
   "id": "0a170a08",
   "metadata": {},
   "outputs": [],
   "source": [
    "tsne_result = pd.DataFrame(X_embedded, columns=[\"t-SNE_1\",\"t-SNE_2\"])\n",
    "tsne_result[\"label\"] = y_train\n",
    "\n",
    "tsne_result"
   ]
  },
  {
   "cell_type": "markdown",
   "id": "19b57af9",
   "metadata": {},
   "source": [
    "We can plot these two new t-SNE dimensions as follows:"
   ]
  },
  {
   "cell_type": "code",
   "execution_count": null,
   "id": "7567469d",
   "metadata": {},
   "outputs": [],
   "source": [
    "fig, ax = plt.subplots()\n",
    "tmp = tsne_result[tsne_result[\"label\"]==1]\n",
    "ax.plot(tmp[\"t-SNE_1\"], tmp[\"t-SNE_2\"], marker='o', linestyle='', ms=3, label=\"liver cancer\")\n",
    "tmp = tsne_result[tsne_result[\"label\"]==0]\n",
    "ax.plot(tmp[\"t-SNE_1\"], tmp[\"t-SNE_2\"], marker='o', linestyle='', ms=3, label=\"no liver cancer\")\n",
    "ax.legend()\n",
    "plt.show()"
   ]
  },
  {
   "cell_type": "markdown",
   "id": "5add8a1c",
   "metadata": {},
   "source": [
    "Fit a t-SNE model on the `train_std` data set that contains only the 50 most important genes from `model_parameters`. \n",
    "Create Pandas DataFrame with columns `t-SNE_1`, `t-SNE_2` and the label `label`: "
   ]
  },
  {
   "cell_type": "code",
   "execution_count": null,
   "id": "4f88d19c",
   "metadata": {},
   "outputs": [],
   "source": [
    "#start code here\n",
    "\n",
    "#end code here"
   ]
  },
  {
   "cell_type": "markdown",
   "id": "0112471f",
   "metadata": {},
   "source": [
    "Plot the results:"
   ]
  },
  {
   "cell_type": "code",
   "execution_count": null,
   "id": "35b171bb",
   "metadata": {},
   "outputs": [],
   "source": [
    "#start code here\n",
    "\n",
    "#end code here"
   ]
  },
  {
   "cell_type": "markdown",
   "id": "271502fc",
   "metadata": {},
   "source": [
    "1. *Feltes, B.C.; Chandelier, E.B.; Grisci, B.I.; Dorn, M. CuMiDa: An Extensively Curated Microarray Database for Benchmarking and Testing of Machine Learning Approaches in Cancer Research. Journal of Computational Biology, 2019.*"
   ]
  }
 ],
 "metadata": {
  "kernelspec": {
   "display_name": "Python 3 (ipykernel)",
   "language": "python",
   "name": "python3"
  },
  "language_info": {
   "codemirror_mode": {
    "name": "ipython",
    "version": 3
   },
   "file_extension": ".py",
   "mimetype": "text/x-python",
   "name": "python",
   "nbconvert_exporter": "python",
   "pygments_lexer": "ipython3",
   "version": "3.9.18"
  }
 },
 "nbformat": 4,
 "nbformat_minor": 5
}
